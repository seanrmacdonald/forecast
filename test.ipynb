{
 "cells": [
  {
   "cell_type": "code",
   "execution_count": 1,
   "metadata": {},
   "outputs": [
    {
     "data": {
      "text/plain": [
       "array([0.0385, 0.035 , 0.035 , 0.035 , 0.0385, 0.035 , 0.0385, 0.035 ,\n",
       "       0.0385, 0.035 ])"
      ]
     },
     "execution_count": 1,
     "metadata": {},
     "output_type": "execute_result"
    }
   ],
   "source": [
    "from numpy.random import choice\n",
    "\n",
    "def get_range(value, variance):\n",
    "    max = value * (1 + variance)\n",
    "    min = value * (1 - variance)\n",
    "\n",
    "    sampleList = [min, value, max]\n",
    "    randomNumberList = choice(\n",
    "        sampleList, 100, p=[0.25, 0.5, 0.25]\n",
    "    )\n",
    "\n",
    "    return randomNumberList\n",
    "\n",
    "weighted_list = get_range(0.035, 0.1)\n",
    "weighted_list"
   ]
  },
  {
   "cell_type": "code",
   "execution_count": 7,
   "metadata": {},
   "outputs": [
    {
     "data": {
      "text/plain": [
       "[0.09]"
      ]
     },
     "execution_count": 7,
     "metadata": {},
     "output_type": "execute_result"
    }
   ],
   "source": [
    "import random\n",
    "rate = random.choices(\n",
    "    population=[0.03, 0.05, 0.07, 0.09, 0.11],\n",
    "    weights=[0.1, 0.2, 0.2, 0.2, 0.1],\n",
    "    k=1\n",
    ")\n",
    "rate"
   ]
  },
  {
   "cell_type": "code",
   "execution_count": 29,
   "metadata": {},
   "outputs": [],
   "source": [
    "from numpy.random import choice\n",
    "import numpy as np\n",
    "import random\n",
    "\n",
    "class Calculator():\n",
    "    def calculate_growth(initial_value, rate, years):\n",
    "        initial_value = float(initial_value)\n",
    "        rate = float(rate)\n",
    "        years = float(years)\n",
    "        value = initial_value * (1 + rate) ** years\n",
    "        return round(value)\n",
    "    \n",
    "\n",
    "class MonteCarlo():\n",
    "    def __init__(self, runs, config):\n",
    "        self.results = []\n",
    "        self.initial_value = config.get('initial_value')\n",
    "        self.rate = config.get('rate')\n",
    "        self.years = config.get('years')\n",
    "        self.run_count = runs\n",
    "\n",
    "    def get_rate(self, base_rate):\n",
    "        mean_rate = 0.08548\n",
    "        st_dev = 0.19294\n",
    "        rate = random.choices(\n",
    "            population=[mean_rate - 2*st_dev, mean_rate - st_dev, mean_rate, mean_rate + st_dev, mean_rate + 2*st_dev],\n",
    "            weights=[0.025, 0.225, 0.5, 0.225, 0.025],\n",
    "            k=1\n",
    "        )\n",
    "        return rate[0]\n",
    "\n",
    "    def run_simulation(self):\n",
    "        runs = []\n",
    "        for _ in range(self.run_count):\n",
    "            runs.append(self.make_run(self.initial_value))\n",
    "\n",
    "        summary = self.get_summary(runs)\n",
    "\n",
    "        return summary\n",
    "\n",
    "    def make_run(self, initial_value):\n",
    "        run = [initial_value]\n",
    "        for _ in range(self.years):\n",
    "            rate = self.get_rate(self.rate)\n",
    "            initial_value = Calculator.calculate_growth(initial_value, rate, 1)\n",
    "            run.append(initial_value)\n",
    "\n",
    "        return run\n",
    "\n",
    "    def get_summary(self, runs):\n",
    "        totals = [run[-1] for run in runs]\n",
    "        results = np.array(totals)\n",
    "        p10 = np.percentile(results, 10)\n",
    "        p50 = np.percentile(results, 50)\n",
    "        p90 = np.percentile(results, 90)\n",
    "        p10_run_total = totals[(np.abs(totals - p10)).argmin()]\n",
    "        p50_run_total = totals[(np.abs(totals - p50)).argmin()]\n",
    "        p90_run_total = totals[(np.abs(totals - p90)).argmin()]\n",
    "        min_run = [run for run in runs if run[-1] == min(totals)][0]\n",
    "        max_run = [run for run in runs if run[-1] == max(totals)][0]\n",
    "        p10_run = [run for run in runs if run[-1] == p10_run_total][0]\n",
    "        p50_run = [run for run in runs if run[-1] == p50_run_total][0]\n",
    "        p90_run = [run for run in runs if run[-1] == p90_run_total][0]\n",
    "        \n",
    "        summary = {\n",
    "            'p10': p10, \n",
    "            'p50': p50, \n",
    "            'p90': p90,\n",
    "            'min_run': min_run,\n",
    "            'max_run': max_run,\n",
    "            'p10_run': p10_run,\n",
    "            'p50_run': p50_run,\n",
    "            'p90_run': p90_run\n",
    "        }\n",
    "        return summary"
   ]
  },
  {
   "cell_type": "code",
   "execution_count": 30,
   "metadata": {},
   "outputs": [
    {
     "data": {
      "text/plain": [
       "{'p10': 657314.8,\n",
       " 'p50': 1863663.0,\n",
       " 'p90': 4845439.2,\n",
       " 'min_run': [310000,\n",
       "  396310,\n",
       "  430187,\n",
       "  466959,\n",
       "  416780,\n",
       "  371993,\n",
       "  332019,\n",
       "  296340,\n",
       "  378847,\n",
       "  411231,\n",
       "  367040,\n",
       "  398415,\n",
       "  432472,\n",
       "  302557,\n",
       "  211669,\n",
       "  270602,\n",
       "  345943,\n",
       "  308768,\n",
       "  275588,\n",
       "  245973,\n",
       "  219541,\n",
       "  195949,\n",
       "  174892,\n",
       "  156098,\n",
       "  169441,\n",
       "  151233],\n",
       " 'max_run': [310000,\n",
       "  336499,\n",
       "  495111,\n",
       "  632960,\n",
       "  687065,\n",
       "  613233,\n",
       "  783969,\n",
       "  850983,\n",
       "  1087914,\n",
       "  1390811,\n",
       "  1509698,\n",
       "  2221309,\n",
       "  2839766,\n",
       "  3082509,\n",
       "  3346002,\n",
       "  4277596,\n",
       "  4643245,\n",
       "  5936017,\n",
       "  6443428,\n",
       "  8237407,\n",
       "  8941541,\n",
       "  7980683,\n",
       "  8662872,\n",
       "  11074789,\n",
       "  14158232,\n",
       "  18100167],\n",
       " 'p10_run': [310000,\n",
       "  276687,\n",
       "  300338,\n",
       "  326011,\n",
       "  416779,\n",
       "  291579,\n",
       "  260246,\n",
       "  232280,\n",
       "  296951,\n",
       "  265041,\n",
       "  236560,\n",
       "  302423,\n",
       "  328274,\n",
       "  356335,\n",
       "  318043,\n",
       "  283866,\n",
       "  308131,\n",
       "  215568,\n",
       "  233995,\n",
       "  299144,\n",
       "  382432,\n",
       "  488909,\n",
       "  530701,\n",
       "  678459,\n",
       "  605552,\n",
       "  657315],\n",
       " 'p50_run': [310000,\n",
       "  276687,\n",
       "  300338,\n",
       "  326011,\n",
       "  353878,\n",
       "  315850,\n",
       "  403789,\n",
       "  438305,\n",
       "  391205,\n",
       "  424645,\n",
       "  542875,\n",
       "  589280,\n",
       "  753347,\n",
       "  672392,\n",
       "  859599,\n",
       "  933078,\n",
       "  832809,\n",
       "  903998,\n",
       "  981272,\n",
       "  1254478,\n",
       "  1603750,\n",
       "  1431411,\n",
       "  1277592,\n",
       "  1633299,\n",
       "  1457785,\n",
       "  1863661],\n",
       " 'p90_run': [310000,\n",
       "  336499,\n",
       "  365263,\n",
       "  396486,\n",
       "  430378,\n",
       "  550204,\n",
       "  597235,\n",
       "  533056,\n",
       "  681469,\n",
       "  871204,\n",
       "  945675,\n",
       "  1208970,\n",
       "  1312313,\n",
       "  1677687,\n",
       "  1497403,\n",
       "  1625401,\n",
       "  1764340,\n",
       "  2595979,\n",
       "  2817883,\n",
       "  3058756,\n",
       "  3320218,\n",
       "  3604030,\n",
       "  3912102,\n",
       "  5001309,\n",
       "  4463868,\n",
       "  4845439]}"
      ]
     },
     "execution_count": 30,
     "metadata": {},
     "output_type": "execute_result"
    }
   ],
   "source": [
    "config = {\n",
    "    'initial_value': 310000,\n",
    "    'rate': 0.07,\n",
    "    'years': 25\n",
    "}\n",
    "monte_carlo = MonteCarlo(1000, config)\n",
    "summary = monte_carlo.run_simulation()\n",
    "summary"
   ]
  },
  {
   "cell_type": "code",
   "execution_count": 1,
   "metadata": {},
   "outputs": [],
   "source": [
    "rate_history = [\n",
    "    45.49,\n",
    "-8.83,\n",
    "-20.01,\n",
    "-38.07,\n",
    "1.82,\n",
    "48.85,\n",
    "-2.66,\n",
    "42.49,\n",
    "30.06,\n",
    "-37.13,\n",
    "32.98,\n",
    "-1.10,\n",
    "-11.31,\n",
    "-20.65,\n",
    "9.30,\n",
    "21.47,\n",
    "16.36,\n",
    "32.84,\n",
    "-22.48,\n",
    "-3.34,\n",
    "2.63,\n",
    "20.81,\n",
    "23.48,\n",
    "16.68,\n",
    "17.27,\n",
    "-1.94,\n",
    "53.71,\n",
    "32.10,\n",
    "4.33,\n",
    "-12.98,\n",
    "41.23,\n",
    "10.15,\n",
    "-1.01,\n",
    "25.79,\n",
    "-10.01,\n",
    "20.63,\n",
    "15.30,\n",
    "10.28,\n",
    "-12.98,\n",
    "20.15,\n",
    "5.82,\n",
    "-13.60,\n",
    "-1.90,\n",
    "10.61,\n",
    "14.84,\n",
    "-21.17,\n",
    "-34.04,\n",
    "28.11,\n",
    "18.09,\n",
    "-12.82,\n",
    "-2.30,\n",
    "4.61,\n",
    "17.08,\n",
    "-12.51,\n",
    "15.98,\n",
    "17.87,\n",
    "2.11,\n",
    "26.43,\n",
    "17.21,\n",
    "1.32,\n",
    "11.60,\n",
    "25.64,\n",
    "-8.64,\n",
    "26.36,\n",
    "4.46,\n",
    "7.03,\n",
    "-1.31,\n",
    "33.80,\n",
    "18.74,\n",
    "30.88,\n",
    "26.30,\n",
    "17.72,\n",
    "-12.01,\n",
    "-13.20,\n",
    "-23.78,\n",
    "25.99,\n",
    "7.25,\n",
    "1.37,\n",
    "12.75,\n",
    "1.35,\n",
    "-36.61,\n",
    "22.60,\n",
    "13.13,\n",
    "-0.84,\n",
    "13.91,\n",
    "30.19,\n",
    "12.67,\n",
    "0.64,\n",
    "9.50,\n",
    "19.09,\n",
    "-6.02,\n",
    "28.28,\n",
    "16.44,\n",
    "20.02,\n",
    "-23.01,\n",
    "21.97,\n",
    "21.54,\n",
    "]\n",
    "\n",
    "inflation = [\n",
    "-1.16,\n",
    "0.58,\n",
    "-6.40,\n",
    "-9.32,\n",
    "-10.27,\n",
    "0.76,\n",
    "1.52,\n",
    "2.99,\n",
    "1.45,\n",
    "2.86,\n",
    "-2.78,\n",
    "0.00,\n",
    "0.71,\n",
    "9.93,\n",
    "9.03,\n",
    "2.96,\n",
    "2.30,\n",
    "2.25,\n",
    "18.13,\n",
    "8.84,\n",
    "2.99,\n",
    "-2.07,\n",
    "5.93,\n",
    "6.00,\n",
    "0.75,\n",
    "0.75,\n",
    "-0.74,\n",
    "0.37,\n",
    "2.99,\n",
    "2.90,\n",
    "1.76,\n",
    "1.73,\n",
    "1.36,\n",
    "0.67,\n",
    "1.33,\n",
    "1.64,\n",
    "0.97,\n",
    "1.92,\n",
    "3.46,\n",
    "3.04,\n",
    "4.72,\n",
    "6.20,\n",
    "5.57,\n",
    "3.27,\n",
    "3.41,\n",
    "8.71,\n",
    "12.34,\n",
    "6.94,\n",
    "4.86,\n",
    "6.70,\n",
    "9.02,\n",
    "13.29,\n",
    "12.52,\n",
    "8.92,\n",
    "3.83,\n",
    "3.79,\n",
    "3.95,\n",
    "3.80,\n",
    "1.10,\n",
    "4.43,\n",
    "4.42,\n",
    "4.65,\n",
    "6.11,\n",
    "3.06,\n",
    "2.90,\n",
    "2.75,\n",
    "2.67,\n",
    "2.54,\n",
    "3.32,\n",
    "1.70,\n",
    "1.61,\n",
    "2.68,\n",
    "3.39,\n",
    "1.55,\n",
    "2.38,\n",
    "1.88,\n",
    "3.26,\n",
    "3.42,\n",
    "2.54,\n",
    "4.08,\n",
    "0.09,\n",
    "2.72,\n",
    "1.50,\n",
    "2.96,\n",
    "1.74,\n",
    "1.50,\n",
    "0.76,\n",
    "0.73,\n",
    "2.07,\n",
    "2.11,\n",
    "1.91,\n",
    "2.29,\n",
    "1.36,\n",
    "7.04,\n",
    "6.45,\n",
    "3.35,\n",
    "2.75,\n",
    "]\n"
   ]
  },
  {
   "cell_type": "code",
   "execution_count": 56,
   "metadata": {},
   "outputs": [
    {
     "name": "stdout",
     "output_type": "stream",
     "text": [
      "mean - 3.110721649484536\n",
      "st_dev - 3.895495216834011\n",
      "10 - 0.4960000000000003\n",
      "25 - 1.5\n",
      "50 - 2.75\n",
      "75 - 4.08\n",
      "90 - 7.70800000000001\n"
     ]
    }
   ],
   "source": [
    "results = np.array(inflation)\n",
    "st_dev = np.std(inflation)\n",
    "mean = np.mean(inflation)\n",
    "print(f'mean - {mean}')\n",
    "print(f'st_dev - {st_dev}')\n",
    "for percentile in [10, 25, 50, 75, 90]:\n",
    "    print(f'{percentile} - {np.percentile(results, percentile)}')\n"
   ]
  },
  {
   "cell_type": "code",
   "execution_count": 51,
   "metadata": {},
   "outputs": [
    {
     "data": {
      "text/plain": [
       "0.22499999999999998"
      ]
     },
     "execution_count": 51,
     "metadata": {},
     "output_type": "execute_result"
    }
   ],
   "source": [
    "(1-(0.5+.025+0.025))/2\n"
   ]
  },
  {
   "cell_type": "code",
   "execution_count": 3,
   "metadata": {},
   "outputs": [
    {
     "name": "stdout",
     "output_type": "stream",
     "text": [
      "Requirement already satisfied: scipy in ./.venv/lib/python3.8/site-packages (1.10.1)\n",
      "Requirement already satisfied: numpy<1.27.0,>=1.19.5 in ./.venv/lib/python3.8/site-packages (from scipy) (1.24.4)\n",
      "Note: you may need to restart the kernel to use updated packages.\n"
     ]
    }
   ],
   "source": [
    "%pip install scipy"
   ]
  },
  {
   "cell_type": "code",
   "execution_count": 7,
   "metadata": {},
   "outputs": [],
   "source": [
    "import scipy\n",
    "skew = scipy.stats.skew(rate_history)"
   ]
  },
  {
   "cell_type": "code",
   "execution_count": 17,
   "metadata": {},
   "outputs": [],
   "source": [
    "skewtest = scipy.stats.skewtest(rate_history)"
   ]
  },
  {
   "cell_type": "code",
   "execution_count": 26,
   "metadata": {},
   "outputs": [
    {
     "data": {
      "text/plain": [
       "-10.27"
      ]
     },
     "execution_count": 26,
     "metadata": {},
     "output_type": "execute_result"
    }
   ],
   "source": [
    "np.quantile(inflation, 0)"
   ]
  },
  {
   "cell_type": "code",
   "execution_count": 14,
   "metadata": {},
   "outputs": [
    {
     "data": {
      "text/plain": [
       "<matplotlib.patches.StepPatch at 0x7ff17b541370>"
      ]
     },
     "execution_count": 14,
     "metadata": {},
     "output_type": "execute_result"
    },
    {
     "data": {
      "image/png": "[encoded data removed]",
      "text/plain": [
       "<Figure size 640x480 with 1 Axes>"
      ]
     },
     "metadata": {},
     "output_type": "display_data"
    }
   ],
   "source": [
    "import matplotlib.pyplot as plt\n",
    "import numpy as np\n",
    "\n",
    "counts, bins = np.histogram(rate_history, bins=20)\n",
    "plt.stairs(counts, bins)"
   ]
  },
  {
   "cell_type": "code",
   "execution_count": 16,
   "metadata": {},
   "outputs": [
    {
     "ename": "ValueError",
     "evalue": "mutable default <class 'list'> for field x is not allowed: use default_factory",
     "output_type": "error",
     "traceback": [
      "\u001b[0;31m---------------------------------------------------------------------------\u001b[0m",
      "\u001b[0;31mValueError\u001b[0m                                Traceback (most recent call last)",
      "Cell \u001b[0;32mIn[16], line 4\u001b[0m\n\u001b[1;32m      1\u001b[0m \u001b[38;5;28;01mfrom\u001b[39;00m\u001b[38;5;250m \u001b[39m\u001b[38;5;21;01mdataclasses\u001b[39;00m\u001b[38;5;250m \u001b[39m\u001b[38;5;28;01mimport\u001b[39;00m dataclass\n\u001b[1;32m      3\u001b[0m \u001b[38;5;129;43m@dataclass\u001b[39;49m\n\u001b[0;32m----> 4\u001b[0m \u001b[38;5;28;43;01mclass\u001b[39;49;00m\u001b[38;5;250;43m \u001b[39;49m\u001b[38;5;21;43;01mDataClass\u001b[39;49;00m\u001b[43m:\u001b[49m\n\u001b[1;32m      5\u001b[0m \u001b[43m    \u001b[49m\u001b[43mx\u001b[49m\u001b[43m:\u001b[49m\u001b[43m \u001b[49m\u001b[38;5;28;43mlist\u001b[39;49m\u001b[43m \u001b[49m\u001b[38;5;241;43m=\u001b[39;49m\u001b[43m \u001b[49m\u001b[43m[\u001b[49m\u001b[43m]\u001b[49m\n\u001b[1;32m      6\u001b[0m \u001b[43m    \u001b[49m\u001b[43my\u001b[49m\u001b[43m:\u001b[49m\u001b[43m \u001b[49m\u001b[38;5;28;43mstr\u001b[39;49m\u001b[43m \u001b[49m\u001b[38;5;241;43m=\u001b[39;49m\u001b[43m \u001b[49m\u001b[38;5;124;43m'\u001b[39;49m\u001b[38;5;124;43my\u001b[39;49m\u001b[38;5;124;43m'\u001b[39;49m\n",
      "File \u001b[0;32m/Library/Frameworks/Python.framework/Versions/3.8/lib/python3.8/dataclasses.py:1000\u001b[0m, in \u001b[0;36mdataclass\u001b[0;34m(cls, init, repr, eq, order, unsafe_hash, frozen)\u001b[0m\n\u001b[1;32m    997\u001b[0m     \u001b[39mreturn\u001b[39;00m wrap\n\u001b[1;32m    999\u001b[0m \u001b[39m# We're called as @dataclass without parens.\u001b[39;00m\n\u001b[0;32m-> 1000\u001b[0m \u001b[39mreturn\u001b[39;00m wrap(\u001b[39mcls\u001b[39;49m)\n",
      "File \u001b[0;32m/Library/Frameworks/Python.framework/Versions/3.8/lib/python3.8/dataclasses.py:992\u001b[0m, in \u001b[0;36mdataclass.<locals>.wrap\u001b[0;34m(cls)\u001b[0m\n\u001b[1;32m    991\u001b[0m \u001b[39mdef\u001b[39;00m\u001b[39m \u001b[39m\u001b[39mwrap\u001b[39m(\u001b[39mcls\u001b[39m):\n\u001b[0;32m--> 992\u001b[0m     \u001b[39mreturn\u001b[39;00m _process_class(\u001b[39mcls\u001b[39;49m, init, \u001b[39mrepr\u001b[39;49m, eq, order, unsafe_hash, frozen)\n",
      "File \u001b[0;32m/Library/Frameworks/Python.framework/Versions/3.8/lib/python3.8/dataclasses.py:845\u001b[0m, in \u001b[0;36m_process_class\u001b[0;34m(cls, init, repr, eq, order, unsafe_hash, frozen)\u001b[0m\n\u001b[1;32m    840\u001b[0m cls_annotations \u001b[39m=\u001b[39m \u001b[39mcls\u001b[39m\u001b[39m.\u001b[39m\u001b[39m__dict__\u001b[39m\u001b[39m.\u001b[39mget(\u001b[39m'\u001b[39m\u001b[39m__annotations__\u001b[39m\u001b[39m'\u001b[39m, {})\n\u001b[1;32m    842\u001b[0m \u001b[39m# Now find fields in our class.  While doing so, validate some\u001b[39;00m\n\u001b[1;32m    843\u001b[0m \u001b[39m# things, and set the default values (as class attributes) where\u001b[39;00m\n\u001b[1;32m    844\u001b[0m \u001b[39m# we can.\u001b[39;00m\n\u001b[0;32m--> 845\u001b[0m cls_fields \u001b[39m=\u001b[39m [_get_field(\u001b[39mcls\u001b[39m, name, \u001b[39mtype\u001b[39m)\n\u001b[1;32m    846\u001b[0m               \u001b[39mfor\u001b[39;00m name, \u001b[39mtype\u001b[39m \u001b[39min\u001b[39;00m cls_annotations\u001b[39m.\u001b[39mitems()]\n\u001b[1;32m    847\u001b[0m \u001b[39mfor\u001b[39;00m f \u001b[39min\u001b[39;00m cls_fields:\n\u001b[1;32m    848\u001b[0m     fields[f\u001b[39m.\u001b[39mname] \u001b[39m=\u001b[39m f\n",
      "File \u001b[0;32m/Library/Frameworks/Python.framework/Versions/3.8/lib/python3.8/dataclasses.py:845\u001b[0m, in \u001b[0;36m<listcomp>\u001b[0;34m(.0)\u001b[0m\n\u001b[1;32m    840\u001b[0m cls_annotations \u001b[39m=\u001b[39m \u001b[39mcls\u001b[39m\u001b[39m.\u001b[39m\u001b[39m__dict__\u001b[39m\u001b[39m.\u001b[39mget(\u001b[39m'\u001b[39m\u001b[39m__annotations__\u001b[39m\u001b[39m'\u001b[39m, {})\n\u001b[1;32m    842\u001b[0m \u001b[39m# Now find fields in our class.  While doing so, validate some\u001b[39;00m\n\u001b[1;32m    843\u001b[0m \u001b[39m# things, and set the default values (as class attributes) where\u001b[39;00m\n\u001b[1;32m    844\u001b[0m \u001b[39m# we can.\u001b[39;00m\n\u001b[0;32m--> 845\u001b[0m cls_fields \u001b[39m=\u001b[39m [_get_field(\u001b[39mcls\u001b[39;49m, name, \u001b[39mtype\u001b[39;49m)\n\u001b[1;32m    846\u001b[0m               \u001b[39mfor\u001b[39;00m name, \u001b[39mtype\u001b[39m \u001b[39min\u001b[39;00m cls_annotations\u001b[39m.\u001b[39mitems()]\n\u001b[1;32m    847\u001b[0m \u001b[39mfor\u001b[39;00m f \u001b[39min\u001b[39;00m cls_fields:\n\u001b[1;32m    848\u001b[0m     fields[f\u001b[39m.\u001b[39mname] \u001b[39m=\u001b[39m f\n",
      "File \u001b[0;32m/Library/Frameworks/Python.framework/Versions/3.8/lib/python3.8/dataclasses.py:739\u001b[0m, in \u001b[0;36m_get_field\u001b[0;34m(cls, a_name, a_type)\u001b[0m\n\u001b[1;32m    731\u001b[0m     \u001b[39m# Should I check for other field settings? default_factory\u001b[39;00m\n\u001b[1;32m    732\u001b[0m     \u001b[39m# seems the most serious to check for.  Maybe add others.  For\u001b[39;00m\n\u001b[1;32m    733\u001b[0m     \u001b[39m# example, how about init=False (or really,\u001b[39;00m\n\u001b[0;32m   (...)\u001b[0m\n\u001b[1;32m    736\u001b[0m \n\u001b[1;32m    737\u001b[0m \u001b[39m# For real fields, disallow mutable defaults for known types.\u001b[39;00m\n\u001b[1;32m    738\u001b[0m \u001b[39mif\u001b[39;00m f\u001b[39m.\u001b[39m_field_type \u001b[39mis\u001b[39;00m _FIELD \u001b[39mand\u001b[39;00m \u001b[39misinstance\u001b[39m(f\u001b[39m.\u001b[39mdefault, (\u001b[39mlist\u001b[39m, \u001b[39mdict\u001b[39m, \u001b[39mset\u001b[39m)):\n\u001b[0;32m--> 739\u001b[0m     \u001b[39mraise\u001b[39;00m \u001b[39mValueError\u001b[39;00m(\u001b[39mf\u001b[39m\u001b[39m'\u001b[39m\u001b[39mmutable default \u001b[39m\u001b[39m{\u001b[39;00m\u001b[39mtype\u001b[39m(f\u001b[39m.\u001b[39mdefault)\u001b[39m}\u001b[39;00m\u001b[39m for field \u001b[39m\u001b[39m'\u001b[39m\n\u001b[1;32m    740\u001b[0m                      \u001b[39mf\u001b[39m\u001b[39m'\u001b[39m\u001b[39m{\u001b[39;00mf\u001b[39m.\u001b[39mname\u001b[39m}\u001b[39;00m\u001b[39m is not allowed: use default_factory\u001b[39m\u001b[39m'\u001b[39m)\n\u001b[1;32m    742\u001b[0m \u001b[39mreturn\u001b[39;00m f\n",
      "\u001b[0;31mValueError\u001b[0m: mutable default <class 'list'> for field x is not allowed: use default_factory"
     ]
    }
   ],
   "source": [
    "from dataclasses import dataclass\n",
    "\n",
    "@dataclass\n",
    "class DataClass:\n",
    "    x: list = []\n",
    "    y: str = 'y'\n",
    "\n",
    "d = DataClass(x=inflation, y='x')"
   ]
  },
  {
   "cell_type": "code",
   "execution_count": 41,
   "metadata": {},
   "outputs": [
    {
     "data": {
      "image/png": "[encoded data removed]",
      "text/plain": [
       "<Figure size 640x480 with 1 Axes>"
      ]
     },
     "metadata": {},
     "output_type": "display_data"
    }
   ],
   "source": [
    "import matplotlib.pyplot as plt\n",
    "\n",
    "x = list(range(2025, 2026 + config['years']))\n",
    "# y1 = summary['min_run']\n",
    "y2 = summary['p10_run']\n",
    "y3 = summary['p50_run']\n",
    "y4 = summary['p90_run']\n",
    "# y5 = summary['max_run']\n",
    "\n",
    "# plt.plot(x, y1, label ='min')\n",
    "plt.plot(x, y2, '-.', label ='p10')\n",
    "plt.plot(x, y3, '-.', label ='p50')\n",
    "plt.plot(x, y4, '-.', label ='p90')\n",
    "# plt.plot(x, y5, label ='max')\n",
    "\n",
    "ax = plt.gca()  # get the axes object\n",
    "# turn off the offset (on the y-axis only)\n",
    "ax.ticklabel_format(axis=\"y\", useOffset=False)\n",
    "\n",
    "# plt.xlabel(\"X-axis data\")\n",
    "plt.ylabel(\"Value\")\n",
    "plt.legend()\n",
    "# plt.title('multiple plots')\n",
    "plt.show()"
   ]
  },
  {
   "cell_type": "code",
   "execution_count": 32,
   "metadata": {},
   "outputs": [
    {
     "data": {
      "text/plain": [
       "range(2025, 25)"
      ]
     },
     "execution_count": 32,
     "metadata": {},
     "output_type": "execute_result"
    }
   ],
   "source": [
    "range(2025, config['years'])"
   ]
  },
  {
   "cell_type": "code",
   "execution_count": 38,
   "metadata": {},
   "outputs": [
    {
     "data": {
      "text/plain": [
       "[2025,\n",
       " 2026,\n",
       " 2027,\n",
       " 2028,\n",
       " 2029,\n",
       " 2030,\n",
       " 2031,\n",
       " 2032,\n",
       " 2033,\n",
       " 2034,\n",
       " 2035,\n",
       " 2036,\n",
       " 2037,\n",
       " 2038,\n",
       " 2039,\n",
       " 2040,\n",
       " 2041,\n",
       " 2042,\n",
       " 2043,\n",
       " 2044,\n",
       " 2045,\n",
       " 2046,\n",
       " 2047,\n",
       " 2048,\n",
       " 2049,\n",
       " 2050]"
      ]
     },
     "execution_count": 38,
     "metadata": {},
     "output_type": "execute_result"
    }
   ],
   "source": [
    "list(range(2025, 2025 + config['years'] + 1))\n"
   ]
  },
  {
   "cell_type": "code",
   "execution_count": 36,
   "metadata": {},
   "outputs": [
    {
     "data": {
      "text/plain": [
       "26"
      ]
     },
     "execution_count": 36,
     "metadata": {},
     "output_type": "execute_result"
    }
   ],
   "source": [
    "len(summary['max_run'])"
   ]
  },
  {
   "cell_type": "code",
   "execution_count": null,
   "metadata": {},
   "outputs": [],
   "source": []
  }
 ],
 "metadata": {
  "kernelspec": {
   "display_name": "Python 3.8.0 ('.venv': venv)",
   "language": "python",
   "name": "python3"
  },
  "language_info": {
   "codemirror_mode": {
    "name": "ipython",
    "version": 3
   },
   "file_extension": ".py",
   "mimetype": "text/x-python",
   "name": "python",
   "nbconvert_exporter": "python",
   "pygments_lexer": "ipython3",
   "version": "3.8.0"
  },
  "orig_nbformat": 4,
  "vscode": {
   "interpreter": {
    "hash": "39659319cb498421826e3b14bef9b9f5f5806763ddb232ec70dbaa3f22ca8849"
   }
  }
 },
 "nbformat": 4,
 "nbformat_minor": 2
}
